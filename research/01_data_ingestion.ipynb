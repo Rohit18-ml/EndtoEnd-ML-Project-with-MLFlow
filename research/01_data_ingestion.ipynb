{
 "cells": [
  {
   "cell_type": "code",
   "execution_count": 1,
   "metadata": {},
   "outputs": [],
   "source": [
    "import os"
   ]
  },
  {
   "cell_type": "code",
   "execution_count": 2,
   "metadata": {},
   "outputs": [
    {
     "data": {
      "text/plain": [
       "'c:\\\\Users\\\\Rohit\\\\Documents\\\\EndtoEnd-ML-Project-with-MLFlow\\\\research'"
      ]
     },
     "execution_count": 2,
     "metadata": {},
     "output_type": "execute_result"
    }
   ],
   "source": [
    "%pwd"
   ]
  },
  {
   "cell_type": "code",
   "execution_count": 3,
   "metadata": {},
   "outputs": [],
   "source": [
    "os.chdir(\"../\")"
   ]
  },
  {
   "cell_type": "code",
   "execution_count": 4,
   "metadata": {},
   "outputs": [
    {
     "data": {
      "text/plain": [
       "'c:\\\\Users\\\\Rohit\\\\Documents\\\\EndtoEnd-ML-Project-with-MLFlow'"
      ]
     },
     "execution_count": 4,
     "metadata": {},
     "output_type": "execute_result"
    }
   ],
   "source": [
    "%pwd"
   ]
  },
  {
   "cell_type": "code",
   "execution_count": 5,
   "metadata": {},
   "outputs": [],
   "source": [
    "from dataclasses import dataclass\r\n",
    "from pathlib import Path"
   ]
  },
  {
   "cell_type": "code",
   "execution_count": 6,
   "metadata": {},
   "outputs": [],
   "source": [
    "@dataclass(frozen=True)\r\n",
    "class DataIngestionConfig:\r\n",
    "    root_dir:Path\r\n",
    "    source_URL:str\r\n",
    "    local_data_file:Path\r\n",
    "    unzip_dir:Path"
   ]
  },
  {
   "cell_type": "code",
   "execution_count": 7,
   "metadata": {},
   "outputs": [],
   "source": [
    "from mlProject.constants import *\r\n",
    "from mlProject.utils.common import read_yaml,create_directories"
   ]
  },
  {
   "cell_type": "code",
   "execution_count": 8,
   "metadata": {},
   "outputs": [],
   "source": [
    "class ConfigurationManager:\r\n",
    "    def __init__(\r\n",
    "        self,\r\n",
    "        config_filepath = CONFIG_FILE_PATH,\r\n",
    "        params_filepath = PARAMS_FILE_PATH,\r\n",
    "        schema_filepath = SCHEMA_FILE_PATH):\r\n",
    "\r\n",
    "        self.config = read_yaml(config_filepath)\r\n",
    "        self.params = read_yaml(params_filepath)\r\n",
    "        self.schema = read_yaml(schema_filepath)\r\n",
    "\r\n",
    "        create_directories([self.config.artifacts_root])\r\n",
    "\r\n",
    "\r\n",
    "    def get_data_ingestion_config(self) -> DataIngestionConfig:\r\n",
    "        config = self.config.data_ingestion\r\n",
    "\r\n",
    "        create_directories([config.root_dir])\r\n",
    "\r\n",
    "        data_ingestion_config = DataIngestionConfig(\r\n",
    "            root_dir=config.root_dir,\r\n",
    "            source_URL= config.source_URL,\r\n",
    "            local_data_file=config.local_data_file,\r\n",
    "            unzip_dir=config.unzip_dir\r\n",
    "        )            \r\n",
    "\r\n",
    "        return data_ingestion_config\r\n"
   ]
  },
  {
   "cell_type": "code",
   "execution_count": 9,
   "metadata": {},
   "outputs": [],
   "source": [
    "import os\r\n",
    "import urllib.request as request\r\n",
    "import zipfile\r\n",
    "from mlProject import logger\r\n",
    "from mlProject.utils.common import get_size"
   ]
  },
  {
   "cell_type": "code",
   "execution_count": 16,
   "metadata": {},
   "outputs": [],
   "source": [
    "class DataIngestion:\r\n",
    "    def __init__(self, config:DataIngestionConfig):\r\n",
    "        self.config = config\r\n",
    "\r\n",
    "    def download_file(self):\r\n",
    "        if not os.path.exists(self.config.local_data_file):\r\n",
    "            filename, headers = request.urlretrieve(\r\n",
    "                url=self.config.source_URL,\r\n",
    "                filename=self.config.local_data_file\r\n",
    "            )\r\n",
    "            logger.info(f\"{filename} download! with following info : \\n{headers}\")\r\n",
    "        else:\r\n",
    "            logger.info(f\"File already exist of size:{get_size(Path(self.config.local_data_file))}\")\r\n",
    "\r\n",
    "    def extract_zip_file(self):\r\n",
    "            \"\"\"\r\n",
    "            zip_file_path:str\r\n",
    "            Extracts the zip file into the dat directory\r\n",
    "            Function returns None \r\n",
    "            \"\"\"\r\n",
    "            unzip_path = self.config.unzip_dir\r\n",
    "            os.makedirs(unzip_path,exist_ok=True)\r\n",
    "            with zipfile.ZipFile(self.config.local_data_file,'r') as zip_ref:\r\n",
    "                zip_ref.extractall(unzip_path)"
   ]
  },
  {
   "cell_type": "code",
   "execution_count": 17,
   "metadata": {},
   "outputs": [
    {
     "name": "stdout",
     "output_type": "stream",
     "text": [
      "[2024-12-08 10:44:16,685: INFO: common: yaml file: config\\config.yaml loaded successfully]\n",
      "[2024-12-08 10:44:16,687: INFO: common: yaml file: params.yaml loaded successfully]\n",
      "[2024-12-08 10:44:16,689: INFO: common: yaml file: schema.yaml loaded successfully]\n",
      "[2024-12-08 10:44:16,690: INFO: common: created directory at: artifacts]\n",
      "[2024-12-08 10:44:16,692: INFO: common: created directory at: artifacts/data_ingestion]\n",
      "[2024-12-08 10:44:16,694: INFO: 4021315903: File already exist of size:~ 23 KB]\n"
     ]
    }
   ],
   "source": [
    "try:\r\n",
    "    config = ConfigurationManager()\r\n",
    "    data_ingestion_config = config.get_data_ingestion_config()\r\n",
    "    data_ingestion = DataIngestion(config=data_ingestion_config)\r\n",
    "    data_ingestion.download_file()\r\n",
    "    data_ingestion.extract_zip_file()\r\n",
    "except Exception as e:\r\n",
    "    raise e"
   ]
  },
  {
   "cell_type": "code",
   "execution_count": null,
   "metadata": {},
   "outputs": [],
   "source": []
  }
 ],
 "metadata": {
  "interpreter": {
   "hash": "d4b2636318d8154aa05cce9b85b24ad7ef2d4bb40c91c10df4b9cf9c86e31aeb"
  },
  "kernelspec": {
   "display_name": "Python 3.8.8 64-bit",
   "name": "python3"
  },
  "language_info": {
   "name": "python",
   "version": ""
  },
  "orig_nbformat": 4
 },
 "nbformat": 4,
 "nbformat_minor": 2
}